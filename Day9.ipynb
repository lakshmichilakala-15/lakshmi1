{
 "cells": [
  {
   "cell_type": "code",
   "execution_count": null,
   "id": "f83b7665-8a0f-4ca5-8593-07e5bfd47e40",
   "metadata": {},
   "outputs": [],
   "source": []
  }
 ],
 "metadata": {
  "kernelspec": {
   "display_name": "",
   "name": ""
  },
  "language_info": {
   "name": ""
  }
 },
 "nbformat": 4,
 "nbformat_minor": 5
}
