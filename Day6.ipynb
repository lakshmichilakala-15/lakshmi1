{
 "cells": [
  {
   "cell_type": "code",
   "execution_count": null,
   "id": "892bacf2-2bef-4a81-9120-a5d950730679",
   "metadata": {},
   "outputs": [],
   "source": []
  }
 ],
 "metadata": {
  "kernelspec": {
   "display_name": "",
   "name": ""
  },
  "language_info": {
   "name": ""
  }
 },
 "nbformat": 4,
 "nbformat_minor": 5
}
