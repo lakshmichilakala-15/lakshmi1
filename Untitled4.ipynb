{
 "cells": [
  {
   "cell_type": "code",
   "execution_count": 11,
   "id": "183ab214",
   "metadata": {},
   "outputs": [],
   "source": [
    "L = [100,50,193,443,256,53,1000]"
   ]
  },
  {
   "cell_type": "code",
   "execution_count": 15,
   "id": "8a870cee",
   "metadata": {},
   "outputs": [],
   "source": [
    "L1=[]\n",
    "L2=[]\n",
    "for x in L:\n",
    "    if x%2 ==0:\n",
    "        L1.append(x)\n",
    "    else:\n",
    "            L2.append(x)"
   ]
  },
  {
   "cell_type": "code",
   "execution_count": 16,
   "id": "32d05488",
   "metadata": {},
   "outputs": [
    {
     "name": "stdout",
     "output_type": "stream",
     "text": [
      "[100, 50, 256, 1000]\n",
      "[193, 443, 53]\n"
     ]
    }
   ],
   "source": [
    "print(L1)\n",
    "print(L2)"
   ]
  },
  {
   "cell_type": "code",
   "execution_count": 19,
   "id": "d6d9489c",
   "metadata": {},
   "outputs": [],
   "source": [
    "L = [\"A\",100,\"B\",20.5,True,6+8j]"
   ]
  },
  {
   "cell_type": "code",
   "execution_count": 34,
   "id": "f1d059b0",
   "metadata": {},
   "outputs": [
    {
     "name": "stdout",
     "output_type": "stream",
     "text": [
      "[100, 20.5]\n"
     ]
    }
   ],
   "source": [
    "L1=[]\n",
    "L2=[]\n",
    "L3=[]\n",
    "L4=[]\n",
    "for x in L:\n",
    "    if type(x) == int:\n",
    "        L1.append(x)\n",
    "    elif type(x) == float:\n",
    "        L1.append(x)\n",
    "print(L1)\n",
    "        "
   ]
  },
  {
   "cell_type": "code",
   "execution_count": 1,
   "id": "4104d215",
   "metadata": {},
   "outputs": [
    {
     "name": "stdout",
     "output_type": "stream",
     "text": [
      "20\n",
      "[20, 30]\n",
      "[20, 30, 40, 50]\n",
      "[10, 20, 30]\n",
      "[10, 20, 30, 40, 50]\n"
     ]
    }
   ],
   "source": [
    "my_list = [10, 20, 30, 40, 50]\n",
    "print(my_list[1])\n",
    "print(my_list[1:3])\n",
    "print(my_list[1:])\n",
    "print(my_list[:3])\n",
    "print(my_list[:])"
   ]
  },
  {
   "cell_type": "code",
   "execution_count": 2,
   "id": "6f9bf4ba",
   "metadata": {},
   "outputs": [
    {
     "name": "stdout",
     "output_type": "stream",
     "text": [
      "30\n",
      "60\n",
      "90\n",
      "120\n"
     ]
    }
   ],
   "source": [
    "my_list = [10, 20, 30, 40]\n",
    "for item in my_list:\n",
    "    print(3*item)"
   ]
  },
  {
   "cell_type": "code",
   "execution_count": 7,
   "id": "d0a7e3d0",
   "metadata": {},
   "outputs": [
    {
     "name": "stdout",
     "output_type": "stream",
     "text": [
      "30\n",
      "60\n",
      "90\n",
      "120\n"
     ]
    }
   ],
   "source": [
    "my_list = [10, 20, 30, 40]\n",
    "for x in range(len(my_list)):\n",
    "    print(3*my_list[x])"
   ]
  },
  {
   "cell_type": "code",
   "execution_count": 12,
   "id": "4f84feeb",
   "metadata": {},
   "outputs": [
    {
     "data": {
      "text/plain": [
       "[1, 2, 2, 3, 3, 3]"
      ]
     },
     "execution_count": 12,
     "metadata": {},
     "output_type": "execute_result"
    }
   ],
   "source": [
    "duplicates_list = [1, 2, 2, 3, 3, 3]\n",
    "duplicates_list"
   ]
  },
  {
   "cell_type": "code",
   "execution_count": 8,
   "id": "afbc7e01",
   "metadata": {},
   "outputs": [
    {
     "data": {
      "text/plain": [
       "[[1, 2], [3, 4], [5, 6]]"
      ]
     },
     "execution_count": 8,
     "metadata": {},
     "output_type": "execute_result"
    }
   ],
   "source": [
    "nested_list = [[1, 2], [3, 4], [5, 6]]\n",
    "nested_list"
   ]
  },
  {
   "cell_type": "code",
   "execution_count": 9,
   "id": "11a37b0e",
   "metadata": {},
   "outputs": [
    {
     "data": {
      "text/plain": [
       "['__add__',\n",
       " '__class__',\n",
       " '__class_getitem__',\n",
       " '__contains__',\n",
       " '__delattr__',\n",
       " '__delitem__',\n",
       " '__dir__',\n",
       " '__doc__',\n",
       " '__eq__',\n",
       " '__format__',\n",
       " '__ge__',\n",
       " '__getattribute__',\n",
       " '__getitem__',\n",
       " '__getstate__',\n",
       " '__gt__',\n",
       " '__hash__',\n",
       " '__iadd__',\n",
       " '__imul__',\n",
       " '__init__',\n",
       " '__init_subclass__',\n",
       " '__iter__',\n",
       " '__le__',\n",
       " '__len__',\n",
       " '__lt__',\n",
       " '__mul__',\n",
       " '__ne__',\n",
       " '__new__',\n",
       " '__reduce__',\n",
       " '__reduce_ex__',\n",
       " '__repr__',\n",
       " '__reversed__',\n",
       " '__rmul__',\n",
       " '__setattr__',\n",
       " '__setitem__',\n",
       " '__sizeof__',\n",
       " '__str__',\n",
       " '__subclasshook__',\n",
       " 'append',\n",
       " 'clear',\n",
       " 'copy',\n",
       " 'count',\n",
       " 'extend',\n",
       " 'index',\n",
       " 'insert',\n",
       " 'pop',\n",
       " 'remove',\n",
       " 'reverse',\n",
       " 'sort']"
      ]
     },
     "execution_count": 9,
     "metadata": {},
     "output_type": "execute_result"
    }
   ],
   "source": [
    "dir(list)"
   ]
  },
  {
   "cell_type": "code",
   "execution_count": 10,
   "id": "3b2a39a7",
   "metadata": {},
   "outputs": [
    {
     "data": {
      "text/plain": [
       "[['apple', 10], ['banana', 5], ['cherry', 7], ['banana', 5]]"
      ]
     },
     "execution_count": 10,
     "metadata": {},
     "output_type": "execute_result"
    }
   ],
   "source": [
    "orders = [[\"apple\", 10], [\"banana\", 5], [\"cherry\", 7], [\"banana\", 5]]\n",
    "orders"
   ]
  },
  {
   "cell_type": "code",
   "execution_count": 11,
   "id": "29a3b35e",
   "metadata": {},
   "outputs": [
    {
     "data": {
      "text/plain": [
       "[['apple', 10], ['banana', 5], ['cherry', 7], ['banana', 5], ['date', 12]]"
      ]
     },
     "execution_count": 11,
     "metadata": {},
     "output_type": "execute_result"
    }
   ],
   "source": [
    "new_order1 = [\"date\", 12]\n",
    "orders.append(new_order1)\n",
    "orders"
   ]
  },
  {
   "cell_type": "code",
   "execution_count": 16,
   "id": "cc1fe533",
   "metadata": {},
   "outputs": [
    {
     "data": {
      "text/plain": [
       "[['apple', 10],\n",
       " ['banana', 5],\n",
       " ['cherry', 7],\n",
       " ['banana', 5],\n",
       " ['date', 12],\n",
       " ['graph', 9],\n",
       " ['apple', 20],\n",
       " ['graph', 9],\n",
       " ['apple', 20],\n",
       " ['graph', 9],\n",
       " ['apple', 20]]"
      ]
     },
     "execution_count": 16,
     "metadata": {},
     "output_type": "execute_result"
    }
   ],
   "source": [
    "new_orders = [[\"graph\", 9], [\"apple\",20]]\n",
    "orders.extend(new_orders)\n",
    "orders"
   ]
  },
  {
   "cell_type": "code",
   "execution_count": 18,
   "id": "2d9ccce9",
   "metadata": {},
   "outputs": [
    {
     "data": {
      "text/plain": [
       "[['apple', 10],\n",
       " ['banana', 5],\n",
       " ['cherry', 7],\n",
       " ['banana', 5],\n",
       " ['date', 12],\n",
       " ['graph', 9],\n",
       " ['apple', 20],\n",
       " ['graph', 9],\n",
       " ['apple', 20],\n",
       " ['graph', 9],\n",
       " ['apple', 20],\n",
       " ['graph', 9],\n",
       " ['apple', 20],\n",
       " [['graph', 9], ['apple', 20]]]"
      ]
     },
     "execution_count": 18,
     "metadata": {},
     "output_type": "execute_result"
    }
   ],
   "source": [
    "new_orders = [[\"graph\", 9], [\"apple\",20]]\n",
    "orders.append(new_orders)\n",
    "orders"
   ]
  },
  {
   "cell_type": "code",
   "execution_count": 19,
   "id": "98cc231e",
   "metadata": {},
   "outputs": [
    {
     "ename": "NameError",
     "evalue": "name 'new_orders2' is not defined",
     "output_type": "error",
     "traceback": [
      "\u001b[1;31m---------------------------------------------------------------------------\u001b[0m",
      "\u001b[1;31mNameError\u001b[0m                                 Traceback (most recent call last)",
      "Cell \u001b[1;32mIn[19], line 2\u001b[0m\n\u001b[0;32m      1\u001b[0m new_order2 \u001b[38;5;241m=\u001b[39m [\u001b[38;5;124m\"\u001b[39m\u001b[38;5;124mdragon\u001b[39m\u001b[38;5;124m\"\u001b[39m, \u001b[38;5;241m10\u001b[39m]\n\u001b[1;32m----> 2\u001b[0m orders\u001b[38;5;241m.\u001b[39minsert(\u001b[38;5;241m3\u001b[39m,new_orders2)\n\u001b[0;32m      3\u001b[0m orders\n",
      "\u001b[1;31mNameError\u001b[0m: name 'new_orders2' is not defined"
     ]
    }
   ],
   "source": [
    "new_order2 = [\"dragon\", 10]\n",
    "orders.insert(3,new_orders2)\n",
    "orders"
   ]
  },
  {
   "cell_type": "code",
   "execution_count": 22,
   "id": "bf9673d6",
   "metadata": {},
   "outputs": [
    {
     "data": {
      "text/plain": [
       "['apple', 20]"
      ]
     },
     "execution_count": 22,
     "metadata": {},
     "output_type": "execute_result"
    }
   ],
   "source": [
    "duplicate_order = [\"banana\", 5]\n",
    "orders.pop(4)\n"
   ]
  },
  {
   "cell_type": "code",
   "execution_count": 23,
   "id": "1cb8db03",
   "metadata": {},
   "outputs": [
    {
     "data": {
      "text/plain": [
       "[['apple', 10],\n",
       " ['banana', 5],\n",
       " ['cherry', 7],\n",
       " ['banana', 5],\n",
       " ['graph', 9],\n",
       " ['apple', 20],\n",
       " ['graph', 9],\n",
       " ['apple', 20],\n",
       " ['graph', 9],\n",
       " ['apple', 20],\n",
       " [['graph', 9], ['apple', 20]]]"
      ]
     },
     "execution_count": 23,
     "metadata": {},
     "output_type": "execute_result"
    }
   ],
   "source": [
    "orders"
   ]
  },
  {
   "cell_type": "code",
   "execution_count": 6,
   "id": "0f28c749",
   "metadata": {},
   "outputs": [
    {
     "name": "stdout",
     "output_type": "stream",
     "text": [
      "[['apple', 10], ['banana', 5], ['cherry', 10], ['dragon', 10]]\n"
     ]
    }
   ],
   "source": [
    "orders = [['apple', 10],['banana', 5],['cherry', 7],['dragon', 10]]\n",
    "for each in orders:\n",
    "    if each[0] == \"cherry\":\n",
    "       each[1] = 10\n",
    "print(orders)"
   ]
  },
  {
   "cell_type": "code",
   "execution_count": 14,
   "id": "5fc7a219",
   "metadata": {},
   "outputs": [
    {
     "name": "stdout",
     "output_type": "stream",
     "text": [
      "[10]\n",
      "10\n"
     ]
    }
   ],
   "source": [
    "apple_orders= []\n",
    "for each in orders:\n",
    "    if each[0] == 'apple':\n",
    "        apple_orders.append(each[1])\n",
    "print(apple_orders)\n",
    "print(sum(apple_orders))"
   ]
  },
  {
   "cell_type": "code",
   "execution_count": 16,
   "id": "e8b268ef",
   "metadata": {},
   "outputs": [
    {
     "data": {
      "text/plain": [
       "([1, 2, 3], (4, 8, 9), 'Hello', 9.8)"
      ]
     },
     "execution_count": 16,
     "metadata": {},
     "output_type": "execute_result"
    }
   ],
   "source": [
    "tup4 = ([1,2,3],(4,8,9), \"Hello\",9.8)\n",
    "tup4"
   ]
  },
  {
   "cell_type": "code",
   "execution_count": 24,
   "id": "9db7dd15",
   "metadata": {},
   "outputs": [
    {
     "ename": "TypeError",
     "evalue": "'tuple' object does not support item assignment",
     "output_type": "error",
     "traceback": [
      "\u001b[1;31m---------------------------------------------------------------------------\u001b[0m",
      "\u001b[1;31mTypeError\u001b[0m                                 Traceback (most recent call last)",
      "Cell \u001b[1;32mIn[24], line 1\u001b[0m\n\u001b[1;32m----> 1\u001b[0m tup4[\u001b[38;5;241m1\u001b[39m][\u001b[38;5;241m1\u001b[39m] \u001b[38;5;241m=\u001b[39m \u001b[38;5;241m100\u001b[39m\n\u001b[0;32m      2\u001b[0m tup4\n",
      "\u001b[1;31mTypeError\u001b[0m: 'tuple' object does not support item assignment"
     ]
    }
   ],
   "source": [
    "tup4[1][1] = 100\n",
    "tup4"
   ]
  },
  {
   "cell_type": "code",
   "execution_count": 25,
   "id": "4bc72d2a",
   "metadata": {},
   "outputs": [
    {
     "data": {
      "text/plain": [
       "2"
      ]
     },
     "execution_count": 25,
     "metadata": {},
     "output_type": "execute_result"
    }
   ],
   "source": [
    "tup4.index('Hello')"
   ]
  },
  {
   "cell_type": "code",
   "execution_count": 26,
   "id": "50184f82",
   "metadata": {},
   "outputs": [
    {
     "data": {
      "text/plain": [
       "4"
      ]
     },
     "execution_count": 26,
     "metadata": {},
     "output_type": "execute_result"
    }
   ],
   "source": [
    "tup5 = (10,20,1,10,10,30,10)\n",
    "tup5.count(10)"
   ]
  },
  {
   "cell_type": "code",
   "execution_count": 1,
   "id": "68d448b1",
   "metadata": {},
   "outputs": [
    {
     "name": "stdout",
     "output_type": "stream",
     "text": [
      "{'A': 10, 'B': 20, 'C': 30}\n"
     ]
    }
   ],
   "source": [
    "d2 = dict(A=10, B=20, C=30)\n",
    "print(d2)"
   ]
  },
  {
   "cell_type": "code",
   "execution_count": 2,
   "id": "b9031a58",
   "metadata": {},
   "outputs": [
    {
     "name": "stdout",
     "output_type": "stream",
     "text": [
      "{'x': 1, 'y': 2, 'z': 30}\n"
     ]
    }
   ],
   "source": [
    "d3 = dict([(\"x\", 1), (\"y\", 2), (\"z\", 30)])\n",
    "print(d3)"
   ]
  },
  {
   "cell_type": "code",
   "execution_count": 3,
   "id": "4a0eb064",
   "metadata": {},
   "outputs": [
    {
     "ename": "NameError",
     "evalue": "name 'd1' is not defined",
     "output_type": "error",
     "traceback": [
      "\u001b[1;31m---------------------------------------------------------------------------\u001b[0m",
      "\u001b[1;31mNameError\u001b[0m                                 Traceback (most recent call last)",
      "Cell \u001b[1;32mIn[3], line 1\u001b[0m\n\u001b[1;32m----> 1\u001b[0m \u001b[38;5;28mprint\u001b[39m(d1\u001b[38;5;241m.\u001b[39mkeys())\n\u001b[0;32m      2\u001b[0m \u001b[38;5;28mprint\u001b[39m(d1\u001b[38;5;241m.\u001b[39mvalues())\n\u001b[0;32m      3\u001b[0m \u001b[38;5;28mprint\u001b[39m(d1\u001b[38;5;241m.\u001b[39mitems())\n",
      "\u001b[1;31mNameError\u001b[0m: name 'd1' is not defined"
     ]
    }
   ],
   "source": [
    "print(d1.keys())\n",
    "print(d1.values())\n",
    "print(d1.items())"
   ]
  },
  {
   "cell_type": "code",
   "execution_count": 4,
   "id": "93d056a2",
   "metadata": {},
   "outputs": [
    {
     "data": {
      "text/plain": [
       "['__class__',\n",
       " '__class_getitem__',\n",
       " '__contains__',\n",
       " '__delattr__',\n",
       " '__delitem__',\n",
       " '__dir__',\n",
       " '__doc__',\n",
       " '__eq__',\n",
       " '__format__',\n",
       " '__ge__',\n",
       " '__getattribute__',\n",
       " '__getitem__',\n",
       " '__getstate__',\n",
       " '__gt__',\n",
       " '__hash__',\n",
       " '__init__',\n",
       " '__init_subclass__',\n",
       " '__ior__',\n",
       " '__iter__',\n",
       " '__le__',\n",
       " '__len__',\n",
       " '__lt__',\n",
       " '__ne__',\n",
       " '__new__',\n",
       " '__or__',\n",
       " '__reduce__',\n",
       " '__reduce_ex__',\n",
       " '__repr__',\n",
       " '__reversed__',\n",
       " '__ror__',\n",
       " '__setattr__',\n",
       " '__setitem__',\n",
       " '__sizeof__',\n",
       " '__str__',\n",
       " '__subclasshook__',\n",
       " 'clear',\n",
       " 'copy',\n",
       " 'fromkeys',\n",
       " 'get',\n",
       " 'items',\n",
       " 'keys',\n",
       " 'pop',\n",
       " 'popitem',\n",
       " 'setdefault',\n",
       " 'update',\n",
       " 'values']"
      ]
     },
     "execution_count": 4,
     "metadata": {},
     "output_type": "execute_result"
    }
   ],
   "source": [
    "dir(dict)"
   ]
  },
  {
   "cell_type": "code",
   "execution_count": 2,
   "id": "44d6bba5",
   "metadata": {},
   "outputs": [
    {
     "data": {
      "text/plain": [
       "{'virat': 90,\n",
       " 'Rohith': 100,\n",
       " 'Rahul': 70,\n",
       " 'Hardik': 9,\n",
       " 'Gill': 20,\n",
       " 'jadeja': 30,\n",
       " 'Siraz': 15,\n",
       " 'Aswin': 15}"
      ]
     },
     "execution_count": 2,
     "metadata": {},
     "output_type": "execute_result"
    }
   ],
   "source": [
    "scores= {'virat':90,'Rohith':100,'Rahul':70,'Hardik':9,'Gill':20,'jadeja':30,'Siraz':15,'Aswin':15}\n",
    "scores"
   ]
  },
  {
   "cell_type": "code",
   "execution_count": 3,
   "id": "47c0898e",
   "metadata": {},
   "outputs": [
    {
     "data": {
      "text/plain": [
       "{'virat': 90,\n",
       " 'Rohith': 100,\n",
       " 'Rahul': 70,\n",
       " 'Hardik': 9,\n",
       " 'Gill': 20,\n",
       " 'jadeja': 30,\n",
       " 'Siraz': 15,\n",
       " 'Aswin': 15,\n",
       " 'Jadeja': 50}"
      ]
     },
     "execution_count": 3,
     "metadata": {},
     "output_type": "execute_result"
    }
   ],
   "source": [
    "scores.update({\"Jadeja\":50})\n",
    "scores"
   ]
  },
  {
   "cell_type": "code",
   "execution_count": 4,
   "id": "365a9bd7",
   "metadata": {},
   "outputs": [
    {
     "data": {
      "text/plain": [
       "{'virat': 90,\n",
       " 'Rohith': 100,\n",
       " 'Rahul': 70,\n",
       " 'Hardik': 65,\n",
       " 'Gill': 20,\n",
       " 'jadeja': 30,\n",
       " 'Siraz': 15,\n",
       " 'Aswin': 15,\n",
       " 'Jadeja': 50,\n",
       " 'Rahane': 45}"
      ]
     },
     "execution_count": 4,
     "metadata": {},
     "output_type": "execute_result"
    }
   ],
   "source": [
    "scores.update({\"Hardik\":65, 'Rahane':45})\n",
    "scores"
   ]
  },
  {
   "cell_type": "code",
   "execution_count": null,
   "id": "9b0d8309",
   "metadata": {},
   "outputs": [],
   "source": []
  }
 ],
 "metadata": {
  "kernelspec": {
   "display_name": "Python 3 (ipykernel)",
   "language": "python",
   "name": "python3"
  },
  "language_info": {
   "codemirror_mode": {
    "name": "ipython",
    "version": 3
   },
   "file_extension": ".py",
   "mimetype": "text/x-python",
   "name": "python",
   "nbconvert_exporter": "python",
   "pygments_lexer": "ipython3",
   "version": "3.11.5"
  }
 },
 "nbformat": 4,
 "nbformat_minor": 5
}
